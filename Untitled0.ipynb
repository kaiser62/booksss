{
  "nbformat": 4,
  "nbformat_minor": 0,
  "metadata": {
    "colab": {
      "provenance": [],
      "include_colab_link": true
    },
    "kernelspec": {
      "name": "python3",
      "display_name": "Python 3"
    }
  },
  "cells": [
    {
      "cell_type": "markdown",
      "metadata": {
        "id": "view-in-github",
        "colab_type": "text"
      },
      "source": [
        "<a href=\"https://colab.research.google.com/github/kaiser62/booksss/blob/master/Untitled0.ipynb\" target=\"_parent\"><img src=\"https://colab.research.google.com/assets/colab-badge.svg\" alt=\"Open In Colab\"/></a>"
      ]
    },
    {
      "cell_type": "markdown",
      "metadata": {
        "id": "WZogp-b_57D_"
      },
      "source": [
        "\n",
        "## <font color='greenr'> Magent/direct links + Mega Files  </font> upload to  <font color='lightblue'>onedrive</font> <img src='https://www.gb-advisors.com/wp-content/uploads/2020/03/OneDrive-Logo.png' height=\"100\" />By-  <font color='red'> KrypticBit\n"
      ]
    },
    {
      "cell_type": "markdown",
      "metadata": {
        "id": "Yb8ckch26Dul"
      },
      "source": [
        "\n",
        "\n",
        "\n",
        "<font color='Cyan'> Tools  </font> 💽\n",
        "\n",
        "\n",
        "*   <font color='yellow'> Rclone </font> - download rclone in your operating system download link= https://rclone.org/downloads/\n",
        "*   <font color='yellow'> Onedrive Account  </font> (personal,business both working) no account? just signup https://signup.live.com/\n",
        "* <font color='yellow'> Jdownloader WebGui </font>- WebGui for downloading Direct links & Mega files. https://my.jdownloader.org/\n",
        "\n",
        "\n"
      ]
    },
    {
      "cell_type": "code",
      "execution_count": 1,
      "metadata": {
        "cellView": "form",
        "colab": {
          "base_uri": "https://localhost:8080/"
        },
        "id": "2oEgeGat5w4K",
        "outputId": "8139733f-ddd8-4fa2-9fe4-6df119fea626"
      },
      "outputs": [
        {
          "output_type": "stream",
          "name": "stdout",
          "text": [
            "Requirement already satisfied: pip in /usr/local/lib/python3.10/dist-packages (23.1.2)\n",
            "Collecting pip\n",
            "  Downloading pip-24.0-py3-none-any.whl (2.1 MB)\n",
            "\u001b[2K     \u001b[90m━━━━━━━━━━━━━━━━━━━━━━━━━━━━━━━━━━━━━━━━\u001b[0m \u001b[32m2.1/2.1 MB\u001b[0m \u001b[31m11.7 MB/s\u001b[0m eta \u001b[36m0:00:00\u001b[0m\n",
            "\u001b[?25hRequirement already satisfied: setuptools in /usr/local/lib/python3.10/dist-packages (67.7.2)\n",
            "Collecting setuptools\n",
            "  Using cached setuptools-70.0.0-py3-none-any.whl (863 kB)\n",
            "Requirement already satisfied: wheel in /usr/local/lib/python3.10/dist-packages (0.43.0)\n",
            "Installing collected packages: setuptools, pip\n",
            "  Attempting uninstall: setuptools\n",
            "    Found existing installation: setuptools 67.7.2\n",
            "    Uninstalling setuptools-67.7.2:\n",
            "      Successfully uninstalled setuptools-67.7.2\n",
            "  Attempting uninstall: pip\n",
            "    Found existing installation: pip 23.1.2\n",
            "    Uninstalling pip-23.1.2:\n",
            "      Successfully uninstalled pip-23.1.2\n",
            "\u001b[31mERROR: pip's dependency resolver does not currently take into account all the packages that are installed. This behaviour is the source of the following dependency conflicts.\n",
            "ipython 7.34.0 requires jedi>=0.16, which is not installed.\u001b[0m\u001b[31m\n",
            "\u001b[0mSuccessfully installed pip-24.0 setuptools-70.0.0\n",
            "Collecting lbry-libtorrent\n",
            "  Downloading lbry_libtorrent-1.2.4-py3-none-any.whl.metadata (347 bytes)\n",
            "Downloading lbry_libtorrent-1.2.4-py3-none-any.whl (2.4 MB)\n",
            "\u001b[2K   \u001b[90m━━━━━━━━━━━━━━━━━━━━━━━━━━━━━━━━━━━━━━━━\u001b[0m \u001b[32m2.4/2.4 MB\u001b[0m \u001b[31m13.6 MB/s\u001b[0m eta \u001b[36m0:00:00\u001b[0m\n",
            "\u001b[?25hInstalling collected packages: lbry-libtorrent\n",
            "Successfully installed lbry-libtorrent-1.2.4\n",
            "\u001b[33mWARNING: Running pip as the 'root' user can result in broken permissions and conflicting behaviour with the system package manager. It is recommended to use a virtual environment instead: https://pip.pypa.io/warnings/venv\u001b[0m\u001b[33m\n",
            "\u001b[0m--2024-06-14 19:45:57--  https://downloads.rclone.org/v1.52.1/rclone-v1.52.1-linux-amd64.deb\n",
            "Resolving downloads.rclone.org (downloads.rclone.org)... 95.217.6.16, 2a01:4f9:c012:7154::1\n",
            "Connecting to downloads.rclone.org (downloads.rclone.org)|95.217.6.16|:443... connected.\n",
            "HTTP request sent, awaiting response... 200 OK\n",
            "Length: 13904596 (13M) [application/vnd.debian.binary-package]\n",
            "Saving to: ‘rclone-v1.52.1-linux-amd64.deb’\n",
            "\n",
            "rclone-v1.52.1-linu 100%[===================>]  13.26M  7.02MB/s    in 1.9s    \n",
            "\n",
            "2024-06-14 19:46:00 (7.02 MB/s) - ‘rclone-v1.52.1-linux-amd64.deb’ saved [13904596/13904596]\n",
            "\n",
            "Reading package lists... Done\n",
            "Building dependency tree... Done\n",
            "Reading state information... Done\n",
            "Note, selecting 'rclone' instead of './rclone-v1.52.1-linux-amd64.deb'\n",
            "The following NEW packages will be installed:\n",
            "  rclone\n",
            "0 upgraded, 1 newly installed, 0 to remove and 45 not upgraded.\n",
            "Need to get 0 B/13.9 MB of archives.\n",
            "After this operation, 43.0 MB of additional disk space will be used.\n",
            "Get:1 /content/rclone-v1.52.1-linux-amd64.deb rclone amd64 1.52.1 [13.9 MB]\n",
            "Selecting previously unselected package rclone.\n",
            "(Reading database ... 121913 files and directories currently installed.)\n",
            "Preparing to unpack .../rclone-v1.52.1-linux-amd64.deb ...\n",
            "Unpacking rclone (1.52.1) ...\n",
            "Setting up rclone (1.52.1) ...\n",
            "Processing triggers for man-db (2.10.2-1) ...\n"
          ]
        }
      ],
      "source": [
        "#@markdown 1.**Install**  <img src='https://biplobsd.github.io/RLabClone/img/title_rclonelab.svg' height=\"45\" alt=\"RcloneLab\"/> <img src='https://libtorrent.org/img/logo-color-text.png' height=\"45\" alt=\"RcloneLab\"/> <img src='https://brandslogos.com/wp-content/uploads/images/large/mega-icon-logo.png' height=\"45\" alt=\"RcloneLab\"/>\n",
        "\n",
        "\n",
        "\n",
        "\n",
        "!python -m pip install --upgrade pip setuptools wheel\n",
        "!python -m pip install lbry-libtorrent\n",
        "!wget https://downloads.rclone.org/v1.52.1/rclone-v1.52.1-linux-amd64.deb\n",
        "!apt install ./rclone-v1.52.1-linux-amd64.deb"
      ]
    },
    {
      "cell_type": "code",
      "execution_count": null,
      "metadata": {
        "id": "3MkQGdKj5sDx",
        "cellView": "form"
      },
      "outputs": [],
      "source": [
        "#@markdown 2.<font color='orange'>Authenticate One Drive </font> <img src='https://biplobsd.github.io/RLabClone/img/title_rclonelab.svg' height=\"45\" alt=\"RcloneLab\"/></font>\n",
        "\n",
        "!rclone config      #add your onedrive"
      ]
    },
    {
      "cell_type": "code",
      "execution_count": null,
      "metadata": {
        "id": "WLyP-l8K-hb5"
      },
      "outputs": [],
      "source": [
        "!rm -rf onedrive"
      ]
    },
    {
      "cell_type": "code",
      "execution_count": null,
      "metadata": {
        "cellView": "form",
        "id": "gYZwMMy1kF_F"
      },
      "outputs": [],
      "source": [
        "#@markdown <h3>⬅️ Click Here Before Use Rclone Config Uploader</h3>\n",
        "#@markdown <h4>📝 Note: rerun this cell to change the config file.</h4>\n",
        "Beta = False #@param {type:\"boolean\"}\n",
        "Setup_Time_Zone = False #@param {type:\"boolean\"}\n",
        "\n",
        "import os; from google.colab import files; from IPython.display import HTML, clear_output\n",
        "\n",
        "def upload_conf():\n",
        "  try:\n",
        "    display(HTML(\"<h2 style=\\\"font-family:Trebuchet MS;color:#4f8bd6;\\\">Please upload the config file of rclone (rclone.conf) from your computer.</h2><br>\"))\n",
        "    UploadConfig = files.upload().keys()\n",
        "    if len(UploadConfig) == 0:\n",
        "      return display(HTML(\"<center><h2 style=\\\"font-family:Trebuchet MS;color:#ce2121;\\\">File upload has been cancelled during upload file.</h2><br></center>\"))\n",
        "    elif len(UploadConfig) == 1:\n",
        "      for fn in UploadConfig:\n",
        "        if os.path.isfile(\"/content/\" + fn):\n",
        "          get_ipython().system_raw(\"mv -f \" + \"\\\"\" + fn + \"\\\" /root/.rclone.conf && chmod 666 /root/.rclone.conf\")\n",
        "          if Setup_Time_Zone:\n",
        "            !sudo dpkg-reconfigure tzdata\n",
        "          if os.path.isfile(\"/usr/bin/rclone\"):\n",
        "            clear_output(wait=True)\n",
        "            return display(HTML(\"<center><h2 style=\\\"font-family:Trebuchet MS;color:#00b24c;\\\">Config has been changed.</h2><br></center>\"))\n",
        "          else:\n",
        "            if Beta:\n",
        "              get_ipython().system_raw(\"rm -rf /content/sample_data/ && curl -s https://rclone.org/install.sh | sudo bash -s beta\")\n",
        "            else:\n",
        "              get_ipython().system_raw(\"rm -rf /content/sample_data/ && curl -s https://rclone.org/install.sh | sudo bash\")\n",
        "            clear_output(wait=True)\n",
        "            return display(HTML(\"<center><h2 style=\\\"font-family:Trebuchet MS;color:#4f8bd6;\\\">Installation has been successfully completed.</h2><br></center>\"))\n",
        "        else:\n",
        "          clear_output(wait=True)\n",
        "          return display(HTML(\"<center><h2 style=\\\"font-family:Trebuchet MS;color:#ce2121;\\\">File upload has been failed during upload file.</h2><br></center>\"))\n",
        "    else:\n",
        "      for fn in UploadConfig:\n",
        "        get_ipython().system_raw(\"rm -f \" + \"\\\"\" + fn + \"\\\"\")\n",
        "      clear_output(wait=True)\n",
        "      return display(HTML(\"<center><h2 style=\\\"font-family:Trebuchet MS;color:#ce2121;\\\">Please uploading only one file at a time.</h2><br></center>\"))\n",
        "  except:\n",
        "    clear_output(wait=True)\n",
        "    return display(HTML(\"<center><h2 style=\\\"font-family:Trebuchet MS;color:#ce2121;\\\">Error occurred during upload file.</h2><br></center>\"))\n",
        "\n",
        "upload_conf()"
      ]
    },
    {
      "cell_type": "code",
      "execution_count": null,
      "metadata": {
        "colab": {
          "base_uri": "https://localhost:8080/"
        },
        "id": "_qCu9-BY-ByY",
        "outputId": "2c1294df-d483-43e4-a288-8d152414d108"
      },
      "outputs": [
        {
          "output_type": "stream",
          "name": "stdout",
          "text": [
            "nohup: appending output to 'nohup.out'\n"
          ]
        }
      ],
      "source": [
        "#@markdown 3.Rclone<font color='yellow'>  Mount one drive <img src='https://www.gb-advisors.com/wp-content/uploads/2020/03/OneDrive-Logo.png' height=\"90\" />\n",
        "!wget -O /content/rclone.conf https://www.dropbox.com/scl/fi/g31ia76iiepcmxb8casg8/rclone_bertho.conf?rlkey=ui862t10cv0jfkm3gci5cihjj&st=vo5zl599&dl=1\n",
        "!mkdir onedrive\n",
        "!nohup rclone '/content/rclone.conf' --config --vfs-cache-mode writes mount remote: ./onedrive &"
      ]
    },
    {
      "cell_type": "code",
      "execution_count": null,
      "metadata": {
        "cellView": "form",
        "colab": {
          "base_uri": "https://localhost:8080/"
        },
        "id": "Cf1i8xIQE_pm",
        "outputId": "d15af837-d3e4-449d-9cac-bf79ef3c4057"
      },
      "outputs": [
        {
          "name": "stdout",
          "output_type": "stream",
          "text": [
            " Attachments\t\t\t\t\t\t    github.com.url\n",
            " Censored\t\t\t\t\t\t   '🎬 Movies & Shows'\n",
            "'🎵 Compressed Music'\t\t\t\t\t    OnedriveXbot\n",
            " config.json\t\t\t\t\t\t    Presentation1.pptx\n",
            " Document1.docx\t\t\t\t\t\t   '📓 Protected Folder'\n",
            " Document2.docx\t\t\t\t\t\t    README.md\n",
            " Document.docx\t\t\t\t\t\t    Setups\n",
            "'ETtcldClnSFAiyrjdpjkK0cBIqmK3gqFF6fqyLeVobjbiw?e=ts9hLU'\n"
          ]
        }
      ],
      "source": [
        "#@markdown <h3>⬅️ Click Here to check Onedrive files if mounted</h3>\n",
        "!ls ./onedrive    #after sucessfully mounted onedrive then show your onedrive folders and files"
      ]
    },
    {
      "cell_type": "code",
      "execution_count": null,
      "metadata": {
        "colab": {
          "base_uri": "https://localhost:8080/"
        },
        "id": "o5QV1_cwaRCg",
        "outputId": "129bf012-c2d8-4c2c-905d-263b203dbe0a"
      },
      "outputs": [
        {
          "output_type": "stream",
          "name": "stdout",
          "text": [
            "2024/01/18 07:44:40 INFO  : [codewithchris.com]/CWC+ Screencasts/2. Screencasts/11 011 Choosing Photos from the User�s Photo Library VIDEO.mhtml: Copied (new)\n",
            "2024/01/18 07:45:25 INFO  : \n",
            "Transferred:   \t  999.213k / 999.213 kBytes, 100%, 225.955 kBytes/s, ETA 0s\n",
            "Checks:             10614 / 10614, 100%\n",
            "Transferred:            1 / 1, 100%\n",
            "Elapsed time:         4.4s\n",
            "\n",
            "2024/01/18 07:46:25 INFO  : \n",
            "Transferred:   \t  999.213k / 999.213 kBytes, 100%, 224.615 kBytes/s, ETA 0s\n",
            "Checks:             15242 / 15242, 100%\n",
            "Transferred:            1 / 1, 100%\n",
            "Elapsed time:         4.4s\n",
            "\n",
            "2024/01/18 07:47:25 INFO  : \n",
            "Transferred:   \t  999.213k / 999.213 kBytes, 100%, 224.273 kBytes/s, ETA 0s\n",
            "Checks:             17337 / 17337, 100%\n",
            "Transferred:            1 / 1, 100%\n",
            "Elapsed time:         4.4s\n",
            "\n",
            "2024/01/18 07:48:25 INFO  : \n",
            "Transferred:   \t  999.213k / 999.213 kBytes, 100%, 223.813 kBytes/s, ETA 0s\n",
            "Checks:             20592 / 20592, 100%\n",
            "Transferred:            1 / 1, 100%\n",
            "Elapsed time:         4.4s\n",
            "\n",
            "2024/01/18 07:49:25 INFO  : \n",
            "Transferred:   \t  999.213k / 999.213 kBytes, 100%, 223.727 kBytes/s, ETA 0s\n",
            "Checks:             21256 / 21256, 100%\n",
            "Transferred:            1 / 1, 100%\n",
            "Elapsed time:         4.4s\n",
            "\n",
            "2024/01/18 07:50:25 INFO  : \n",
            "Transferred:   \t  999.213k / 999.213 kBytes, 100%, 223.726 kBytes/s, ETA 0s\n",
            "Checks:             21260 / 21260, 100%\n",
            "Transferred:            1 / 1, 100%\n",
            "Elapsed time:         4.4s\n",
            "\n",
            "2024/01/18 07:51:24 INFO  : Signal received: interrupt\n",
            "2024/01/18 07:51:24 INFO  : Exiting...\n"
          ]
        }
      ],
      "source": [
        "!rclone copy --verbose /content/drive/MyDrive/mobile_dev onedrive:Setups"
      ]
    }
  ]
}